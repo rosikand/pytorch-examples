{
 "cells": [
  {
   "cell_type": "markdown",
   "id": "6068314c",
   "metadata": {},
   "source": [
    "# PyTorch MLP Image Classifier "
   ]
  },
  {
   "cell_type": "markdown",
   "id": "d4318cc2",
   "metadata": {},
   "source": [
    "## 1. Data processing and imports "
   ]
  },
  {
   "cell_type": "code",
   "execution_count": 158,
   "id": "99dc52a1",
   "metadata": {},
   "outputs": [],
   "source": [
    "import torch\n",
    "import torchvision\n",
    "import torchvision.transforms as transforms\n",
    "import numpy as np\n",
    "from torchvision import datasets\n",
    "from torch.utils.data import DataLoader\n",
    "from util import *"
   ]
  },
  {
   "cell_type": "code",
   "execution_count": 159,
   "id": "8ab7e91e",
   "metadata": {},
   "outputs": [],
   "source": [
    "import pickle\n",
    "in_file = open('processed_data/norm_fmnist.pkl', 'rb')\n",
    "training_data = pickle.load(in_file)"
   ]
  },
  {
   "cell_type": "code",
   "execution_count": 160,
   "id": "2c7ee4a1",
   "metadata": {},
   "outputs": [],
   "source": [
    "new_in_file = open('processed_data/test_norm_fmnist.pkl', 'rb')\n",
    "test_data = pickle.load(new_in_file)"
   ]
  },
  {
   "cell_type": "markdown",
   "id": "338407fc",
   "metadata": {},
   "source": [
    "Data is a list of the form `[(x,y), (x,y),..., (x,y)]` where each `x` is normalized jnp float array and each `y` is a single float representing the label. "
   ]
  },
  {
   "cell_type": "code",
   "execution_count": 212,
   "id": "fff30b22",
   "metadata": {},
   "outputs": [],
   "source": [
    "from torch.utils.data import Dataset, TensorDataset\n",
    "\n",
    "class GetDataset(Dataset):\n",
    "    def __init__(self, data_set): # samples and labels are stored in tuples in data_set (list)\n",
    "        self.data_distribution = data_set\n",
    "    \n",
    "    def __getitem__(self, index):\n",
    "        sample = self.data_distribution[index][0]\n",
    "        sample_numpy = np.array(sample)\n",
    "        label = self.data_distribution[index][1]\n",
    "        label = int(label)\n",
    "        # sample_numpy = np.expand_dims(sample_numpy, axis=0)  # (28, 28) --> (1, 28, 28)\n",
    "        return (torch.tensor(sample_numpy, dtype=torch.float), torch.tensor(label))\n",
    "    \n",
    "    def __len__(self):\n",
    "        return len(self.data_distribution)"
   ]
  },
  {
   "cell_type": "code",
   "execution_count": 213,
   "id": "b9742a55",
   "metadata": {},
   "outputs": [],
   "source": [
    "trainset = GetDataset(training_data)\n",
    "testset = GetDataset(test_data)"
   ]
  },
  {
   "cell_type": "code",
   "execution_count": 214,
   "id": "5b8f5ced",
   "metadata": {},
   "outputs": [
    {
     "data": {
      "text/plain": [
       "torch.Size([28, 28])"
      ]
     },
     "execution_count": 214,
     "metadata": {},
     "output_type": "execute_result"
    }
   ],
   "source": [
    "testset[0][0].shape"
   ]
  },
  {
   "cell_type": "code",
   "execution_count": 215,
   "id": "d08151b4",
   "metadata": {},
   "outputs": [
    {
     "data": {
      "image/png": "[encoded data removed]",
      "text/plain": [
       "<Figure size 432x288 with 1 Axes>"
      ]
     },
     "metadata": {
      "needs_background": "light"
     },
     "output_type": "display_data"
    }
   ],
   "source": [
    "plot_tensor(trainset[0][0], False)"
   ]
  },
  {
   "cell_type": "code",
   "execution_count": 219,
   "id": "8b2c029f",
   "metadata": {},
   "outputs": [
    {
     "name": "stdout",
     "output_type": "stream",
     "text": [
      "tensor(1)\n"
     ]
    }
   ],
   "source": [
    "print(trainset[0][1])"
   ]
  },
  {
   "cell_type": "code",
   "execution_count": 220,
   "id": "a2531bde",
   "metadata": {},
   "outputs": [],
   "source": [
    "trainloader = torch.utils.data.DataLoader(trainset, batch_size=1)  \n",
    "testloader = torch.utils.data.DataLoader(testset, batch_size=1)"
   ]
  },
  {
   "cell_type": "markdown",
   "id": "4cb4617a",
   "metadata": {},
   "source": [
    "## 2. Model"
   ]
  },
  {
   "cell_type": "code",
   "execution_count": 221,
   "id": "2a845c0b",
   "metadata": {},
   "outputs": [],
   "source": [
    "import torch.nn as nn\n",
    "import torch.nn.functional as F\n",
    "\n",
    "class Net(nn.Module):\n",
    "    def __init__(self):\n",
    "        super().__init__()\n",
    "        self.fc1 = nn.Linear(784, 120)\n",
    "        self.fc2 = nn.Linear(120, 84)\n",
    "        self.fc3 = nn.Linear(84, 2)\n",
    "\n",
    "    def forward(self, x):\n",
    "        x = torch.flatten(x)\n",
    "        x = F.relu(self.fc1(x))\n",
    "        x = F.relu(self.fc2(x))\n",
    "        x = self.fc3(x)\n",
    "        return x"
   ]
  },
  {
   "cell_type": "code",
   "execution_count": 222,
   "id": "f756dd8c",
   "metadata": {},
   "outputs": [],
   "source": [
    "net = Net()"
   ]
  },
  {
   "cell_type": "code",
   "execution_count": 223,
   "id": "389d0c82",
   "metadata": {},
   "outputs": [
    {
     "data": {
      "text/plain": [
       "torch.Size([2])"
      ]
     },
     "execution_count": 223,
     "metadata": {},
     "output_type": "execute_result"
    }
   ],
   "source": [
    "out = net(trainset[0][0])\n",
    "out.shape"
   ]
  },
  {
   "cell_type": "code",
   "execution_count": 225,
   "id": "695f5303",
   "metadata": {},
   "outputs": [
    {
     "data": {
      "text/plain": [
       "tensor(0.6931, grad_fn=<NllLossBackward0>)"
      ]
     },
     "execution_count": 225,
     "metadata": {},
     "output_type": "execute_result"
    }
   ],
   "source": [
    "loss(out, trainset[0][1])"
   ]
  },
  {
   "cell_type": "markdown",
   "id": "d2f2afaf",
   "metadata": {},
   "source": [
    "## 3. Train "
   ]
  },
  {
   "cell_type": "code",
   "execution_count": 227,
   "id": "116ef225",
   "metadata": {},
   "outputs": [],
   "source": [
    "import torch.optim as optim\n",
    "loss = nn.CrossEntropyLoss()\n",
    "optimizer = optim.SGD(net.parameters(), lr=0.001, momentum=0.9)"
   ]
  },
  {
   "cell_type": "code",
   "execution_count": 230,
   "id": "51505ef6",
   "metadata": {},
   "outputs": [
    {
     "name": "stdout",
     "output_type": "stream",
     "text": [
      "Loss epoch 1:  0.62555623\n",
      "Loss epoch 2:  0.43268397\n",
      "Loss epoch 3:  0.23443429\n",
      "Loss epoch 4:  0.1144735\n",
      "Loss epoch 5:  0.060895164\n",
      "Loss epoch 6:  0.037609085\n",
      "Loss epoch 7:  0.025958525\n",
      "Loss epoch 8:  0.019297546\n",
      "Loss epoch 9:  0.015087181\n",
      "Loss epoch 10:  0.012235252\n",
      "Loss epoch 11:  0.010199953\n",
      "Loss epoch 12:  0.008686128\n",
      "Loss epoch 13:  0.007524108\n",
      "Loss epoch 14:  0.006607208\n",
      "Loss epoch 15:  0.0058713355\n",
      "Loss epoch 16:  0.0052663926\n",
      "Loss epoch 17:  0.0047629243\n",
      "Loss epoch 18:  0.0043386966\n",
      "Loss epoch 19:  0.003976644\n",
      "Loss epoch 20:  0.0036651185\n",
      "Loss epoch 21:  0.0033933672\n",
      "Loss epoch 22:  0.0031558466\n",
      "Loss epoch 23:  0.0029460995\n",
      "Loss epoch 24:  0.0027597605\n",
      "Loss epoch 25:  0.0025934237\n",
      "Loss epoch 26:  0.002444003\n",
      "Loss epoch 27:  0.0023091706\n",
      "Loss epoch 28:  0.0021872425\n",
      "Loss epoch 29:  0.0020759797\n",
      "Loss epoch 30:  0.0019746884\n",
      "Loss epoch 31:  0.0018817498\n",
      "Loss epoch 32:  0.0017964763\n",
      "Loss epoch 33:  0.0017176893\n",
      "Loss epoch 34:  0.0016450178\n",
      "Loss epoch 35:  0.0015776961\n",
      "Loss epoch 36:  0.0015150759\n",
      "Loss epoch 37:  0.0014568237\n",
      "Loss epoch 38:  0.0014025726\n",
      "Loss epoch 39:  0.001351642\n",
      "Loss epoch 40:  0.0013041034\n",
      "Loss epoch 41:  0.0012593076\n",
      "Loss epoch 42:  0.001217261\n",
      "Loss epoch 43:  0.0011776938\n",
      "Loss epoch 44:  0.0011403062\n",
      "Loss epoch 45:  0.0011050032\n",
      "Loss epoch 46:  0.001071675\n",
      "Loss epoch 47:  0.0010400447\n",
      "Loss epoch 48:  0.0010100775\n",
      "Loss epoch 49:  0.0009816587\n",
      "Loss epoch 50:  0.0009546344\n",
      "Loss epoch 51:  0.0009288606\n",
      "Loss epoch 52:  0.00090445846\n",
      "Loss epoch 53:  0.00088102784\n",
      "Loss epoch 54:  0.0008587991\n",
      "Loss epoch 55:  0.000837493\n",
      "Loss epoch 56:  0.0008171481\n",
      "Loss epoch 57:  0.00079764175\n",
      "Loss epoch 58:  0.0007789967\n",
      "Loss epoch 59:  0.0007611433\n",
      "Loss epoch 60:  0.00074395287\n",
      "Loss epoch 61:  0.00072748476\n",
      "Loss epoch 62:  0.0007116632\n",
      "Loss epoch 63:  0.0006964578\n",
      "Loss epoch 64:  0.00068179454\n",
      "Loss epoch 65:  0.00066773547\n",
      "Loss epoch 66:  0.00065414107\n",
      "Loss epoch 67:  0.0006410767\n",
      "Loss epoch 68:  0.0006284588\n",
      "Loss epoch 69:  0.00061624194\n",
      "Loss epoch 70:  0.0006045209\n",
      "Loss epoch 71:  0.00059317646\n",
      "Loss epoch 72:  0.0005821925\n",
      "Loss epoch 73:  0.0005715588\n",
      "Loss epoch 74:  0.00056130195\n",
      "Loss epoch 75:  0.00055135833\n",
      "Loss epoch 76:  0.00054170156\n",
      "Loss epoch 77:  0.0005323808\n",
      "Loss epoch 78:  0.00052335294\n",
      "Loss epoch 79:  0.00051455863\n",
      "Loss epoch 80:  0.0005060778\n",
      "Loss epoch 81:  0.00049781206\n",
      "Loss epoch 82:  0.00048980454\n",
      "Loss epoch 83:  0.00048201426\n",
      "Loss epoch 84:  0.00047445958\n",
      "Loss epoch 85:  0.0004671077\n",
      "Loss epoch 86:  0.00045996692\n",
      "Loss epoch 87:  0.0004530168\n",
      "Loss epoch 88:  0.00044625727\n",
      "Loss epoch 89:  0.00043967404\n",
      "Loss epoch 90:  0.0004332773\n",
      "Loss epoch 91:  0.00042702808\n",
      "Loss epoch 92:  0.00042096752\n",
      "Loss epoch 93:  0.0004150401\n",
      "Loss epoch 94:  0.00040928295\n",
      "Loss epoch 95:  0.00040366309\n",
      "Loss epoch 96:  0.00039816616\n",
      "Loss epoch 97:  0.0003928231\n",
      "Loss epoch 98:  0.00038760505\n",
      "Loss epoch 99:  0.0003825059\n",
      "Loss epoch 100:  0.00037754007\n",
      "Loss epoch 101:  0.0003726685\n",
      "Loss epoch 102:  0.00036793022\n",
      "Loss epoch 103:  0.00036328632\n",
      "Loss epoch 104:  0.00035875922\n",
      "Loss epoch 105:  0.00035432653\n",
      "Loss epoch 106:  0.00035000042\n",
      "Loss epoch 107:  0.0003457564\n",
      "Loss epoch 108:  0.00034161896\n",
      "Loss epoch 109:  0.00033755123\n",
      "Loss epoch 110:  0.00033359224\n",
      "Loss epoch 111:  0.0003297214\n",
      "Loss epoch 112:  0.00032591005\n",
      "Loss epoch 113:  0.00032217868\n",
      "Loss epoch 114:  0.0003185273\n",
      "Loss epoch 115:  0.00031496826\n",
      "Loss epoch 116:  0.00031145226\n",
      "Loss epoch 117:  0.0003080306\n",
      "Loss epoch 118:  0.0003046643\n",
      "Loss epoch 119:  0.00030137604\n",
      "Loss epoch 120:  0.0002981452\n",
      "Loss epoch 121:  0.00029497375\n",
      "Loss epoch 122:  0.00029187006\n",
      "Loss epoch 123:  0.0002888238\n",
      "Loss epoch 124:  0.00028583707\n",
      "Loss epoch 125:  0.00028290358\n",
      "Loss epoch 126:  0.00028001735\n",
      "Loss epoch 127:  0.00027719678\n",
      "Loss epoch 128:  0.00027442756\n",
      "Loss epoch 129:  0.0002716931\n",
      "Loss epoch 130:  0.0002690305\n",
      "Loss epoch 131:  0.00026639865\n",
      "Loss epoch 132:  0.00026381813\n",
      "Loss epoch 133:  0.00026128266\n",
      "Loss epoch 134:  0.0002587986\n",
      "Loss epoch 135:  0.00025633088\n",
      "Loss epoch 136:  0.0002539309\n",
      "Loss epoch 137:  0.00025156784\n",
      "Loss epoch 138:  0.00024924378\n",
      "Loss epoch 139:  0.00024695665\n",
      "Loss epoch 140:  0.00024469825\n",
      "Loss epoch 141:  0.00024249523\n",
      "Loss epoch 142:  0.00024031068\n",
      "Loss epoch 143:  0.0002381795\n",
      "Loss epoch 144:  0.00023607296\n",
      "Loss epoch 145:  0.00023400334\n",
      "Loss epoch 146:  0.00023196655\n",
      "Loss epoch 147:  0.0002299688\n",
      "Loss epoch 148:  0.0002279771\n",
      "Loss epoch 149:  0.00022603682\n",
      "Loss epoch 150:  0.00022412109\n",
      "Loss epoch 151:  0.00022223208\n",
      "Loss epoch 152:  0.00022038408\n",
      "Loss epoch 153:  0.00021855663\n",
      "Loss epoch 154:  0.00021676\n",
      "Loss epoch 155:  0.00021498174\n",
      "Loss epoch 156:  0.00021324048\n",
      "Loss epoch 157:  0.00021152387\n",
      "Loss epoch 158:  0.00020981955\n",
      "Loss epoch 159:  0.00020814393\n",
      "Loss epoch 160:  0.00020649712\n",
      "Loss epoch 161:  0.00020488311\n",
      "Loss epoch 162:  0.00020327732\n",
      "Loss epoch 163:  0.00020170229\n",
      "Loss epoch 164:  0.0002001478\n",
      "Loss epoch 165:  0.00019861592\n",
      "Loss epoch 166:  0.00019709837\n",
      "Loss epoch 167:  0.00019561574\n",
      "Loss epoch 168:  0.00019413717\n",
      "Loss epoch 169:  0.00019268942\n",
      "Loss epoch 170:  0.00019126221\n",
      "Loss epoch 171:  0.0001898473\n",
      "Loss epoch 172:  0.00018845702\n",
      "Loss epoch 173:  0.00018708318\n",
      "Loss epoch 174:  0.00018571956\n",
      "Loss epoch 175:  0.00018438064\n",
      "Loss epoch 176:  0.00018306218\n",
      "Loss epoch 177:  0.0001817643\n",
      "Loss epoch 178:  0.00018048074\n",
      "Loss epoch 179:  0.00017921363\n",
      "Loss epoch 180:  0.00017795064\n",
      "Loss epoch 181:  0.00017672048\n",
      "Loss epoch 182:  0.00017549648\n",
      "Loss epoch 183:  0.00017429097\n",
      "Loss epoch 184:  0.00017308953\n",
      "Loss epoch 185:  0.00017192711\n",
      "Loss epoch 186:  0.00017076265\n",
      "Loss epoch 187:  0.0001696146\n",
      "Loss epoch 188:  0.00016848092\n",
      "Loss epoch 189:  0.00016736166\n",
      "Loss epoch 190:  0.00016625464\n",
      "Loss epoch 191:  0.00016517025\n",
      "Loss epoch 192:  0.00016408585\n",
      "Loss epoch 193:  0.00016302199\n",
      "Loss epoch 194:  0.00016196836\n",
      "Loss epoch 195:  0.00016092298\n",
      "Loss epoch 196:  0.00015989812\n",
      "Loss epoch 197:  0.00015887733\n",
      "Loss epoch 198:  0.00015787715\n",
      "Loss epoch 199:  0.00015688309\n",
      "Loss epoch 200:  0.00015590542\n"
     ]
    }
   ],
   "source": [
    "epoch_num = 0\n",
    "epoch_losses = []\n",
    "\n",
    "for epoch in range(200):  # loop over the dataset (1) time \n",
    "    epoch_num += 1\n",
    "    running_loss = 0.0\n",
    "    \n",
    "    for i, data in enumerate(trainloader, 0):\n",
    "        # get the inputs; data is a list of [inputs, labels]\n",
    "        inputs = data[0]\n",
    "        labels = data[1]\n",
    "        labels = torch.squeeze(labels)\n",
    "        \n",
    "        optimizer.zero_grad()\n",
    "        \n",
    "        outputs = net(inputs)\n",
    "        loss_val = loss(outputs, labels)\n",
    "        loss_val.backward()\n",
    "        optimizer.step()\n",
    "        \n",
    "        running_loss += loss_val\n",
    "    \n",
    "    epoch_loss = (running_loss/len(trainloader)).detach().numpy()\n",
    "    epoch_losses.append(epoch_loss)\n",
    "    print('Loss epoch {}: '.format(epoch_num), epoch_loss)"
   ]
  },
  {
   "cell_type": "code",
   "execution_count": 231,
   "id": "0dc79939",
   "metadata": {},
   "outputs": [
    {
     "data": {
      "image/png": "[encoded data removed]",
      "text/plain": [
       "<Figure size 432x288 with 1 Axes>"
      ]
     },
     "metadata": {
      "needs_background": "light"
     },
     "output_type": "display_data"
    }
   ],
   "source": [
    "import matplotlib.pyplot as plt\n",
    "plt.plot(epoch_losses)\n",
    "plt.title(\"Training loss graph\")\n",
    "plt.show()"
   ]
  },
  {
   "cell_type": "code",
   "execution_count": 232,
   "id": "3ec26a27",
   "metadata": {},
   "outputs": [],
   "source": [
    "# save \n",
    "PATH = 'torchclassifier.pth'\n",
    "torch.save(net.state_dict(), PATH)"
   ]
  },
  {
   "cell_type": "markdown",
   "id": "3d423c1d",
   "metadata": {},
   "source": [
    "## 4. Test "
   ]
  },
  {
   "cell_type": "code",
   "execution_count": 234,
   "id": "5315457b",
   "metadata": {},
   "outputs": [
    {
     "data": {
      "image/png": "[encoded data removed]",
      "text/plain": [
       "<Figure size 432x288 with 1 Axes>"
      ]
     },
     "metadata": {
      "needs_background": "light"
     },
     "output_type": "display_data"
    }
   ],
   "source": [
    "def imshow(img):\n",
    "    img = img / 2 + 0.5     # unnormalize\n",
    "    npimg = img.numpy()\n",
    "    plt.imshow(np.transpose(npimg, (1, 2, 0)))\n",
    "    plt.show()\n",
    "\n",
    "dataiter = iter(testloader)\n",
    "images, labels = dataiter.next()\n",
    "\n",
    "# print images\n",
    "imshow(torchvision.utils.make_grid(images))"
   ]
  },
  {
   "cell_type": "code",
   "execution_count": 254,
   "id": "62e64614",
   "metadata": {},
   "outputs": [
    {
     "name": "stderr",
     "output_type": "stream",
     "text": [
      "/var/folders/yr/h50vvmwd40j7y71yyrp_bb5r0000gr/T/ipykernel_13471/3410450893.py:10: UserWarning: Implicit dimension choice for softmax has been deprecated. Change the call to include dim=X as an argument.\n",
      "  normalized_logits = F.softmax(logits)\n"
     ]
    },
    {
     "data": {
      "image/png": "[encoded data removed]",
      "text/plain": [
       "<Figure size 432x288 with 1 Axes>"
      ]
     },
     "metadata": {
      "needs_background": "light"
     },
     "output_type": "display_data"
    },
    {
     "name": "stdout",
     "output_type": "stream",
     "text": [
      "Ground truth:  0\n",
      "Predicted label:  0\n"
     ]
    },
    {
     "data": {
      "image/png": "[encoded data removed]",
      "text/plain": [
       "<Figure size 432x288 with 1 Axes>"
      ]
     },
     "metadata": {
      "needs_background": "light"
     },
     "output_type": "display_data"
    },
    {
     "name": "stdout",
     "output_type": "stream",
     "text": [
      "Ground truth:  0\n",
      "Predicted label:  0\n"
     ]
    },
    {
     "data": {
      "image/png": "[encoded data removed]",
      "text/plain": [
       "<Figure size 432x288 with 1 Axes>"
      ]
     },
     "metadata": {
      "needs_background": "light"
     },
     "output_type": "display_data"
    },
    {
     "name": "stdout",
     "output_type": "stream",
     "text": [
      "Ground truth:  0\n",
      "Predicted label:  0\n"
     ]
    },
    {
     "data": {
      "image/png": "[encoded data removed]",
      "text/plain": [
       "<Figure size 432x288 with 1 Axes>"
      ]
     },
     "metadata": {
      "needs_background": "light"
     },
     "output_type": "display_data"
    },
    {
     "name": "stdout",
     "output_type": "stream",
     "text": [
      "Ground truth:  0\n",
      "Predicted label:  0\n"
     ]
    },
    {
     "data": {
      "image/png": "[encoded data removed]",
      "text/plain": [
       "<Figure size 432x288 with 1 Axes>"
      ]
     },
     "metadata": {
      "needs_background": "light"
     },
     "output_type": "display_data"
    },
    {
     "name": "stdout",
     "output_type": "stream",
     "text": [
      "Ground truth:  1\n",
      "Predicted label:  1\n"
     ]
    },
    {
     "data": {
      "image/png": "[encoded data removed]",
      "text/plain": [
       "<Figure size 432x288 with 1 Axes>"
      ]
     },
     "metadata": {
      "needs_background": "light"
     },
     "output_type": "display_data"
    },
    {
     "name": "stdout",
     "output_type": "stream",
     "text": [
      "Ground truth:  0\n",
      "Predicted label:  0\n"
     ]
    },
    {
     "data": {
      "image/png": "[encoded data removed]",
      "text/plain": [
       "<Figure size 432x288 with 1 Axes>"
      ]
     },
     "metadata": {
      "needs_background": "light"
     },
     "output_type": "display_data"
    },
    {
     "name": "stdout",
     "output_type": "stream",
     "text": [
      "Ground truth:  0\n",
      "Predicted label:  0\n"
     ]
    },
    {
     "data": {
      "image/png": "[encoded data removed]",
      "text/plain": [
       "<Figure size 432x288 with 1 Axes>"
      ]
     },
     "metadata": {
      "needs_background": "light"
     },
     "output_type": "display_data"
    },
    {
     "name": "stdout",
     "output_type": "stream",
     "text": [
      "Ground truth:  1\n",
      "Predicted label:  1\n"
     ]
    },
    {
     "data": {
      "image/png": "[encoded data removed]",
      "text/plain": [
       "<Figure size 432x288 with 1 Axes>"
      ]
     },
     "metadata": {
      "needs_background": "light"
     },
     "output_type": "display_data"
    },
    {
     "name": "stdout",
     "output_type": "stream",
     "text": [
      "Ground truth:  1\n",
      "Predicted label:  1\n"
     ]
    },
    {
     "data": {
      "image/png": "[encoded data removed]",
      "text/plain": [
       "<Figure size 432x288 with 1 Axes>"
      ]
     },
     "metadata": {
      "needs_background": "light"
     },
     "output_type": "display_data"
    },
    {
     "name": "stdout",
     "output_type": "stream",
     "text": [
      "Ground truth:  0\n",
      "Predicted label:  0\n"
     ]
    },
    {
     "data": {
      "image/png": "[encoded data removed]",
      "text/plain": [
       "<Figure size 432x288 with 1 Axes>"
      ]
     },
     "metadata": {
      "needs_background": "light"
     },
     "output_type": "display_data"
    },
    {
     "name": "stdout",
     "output_type": "stream",
     "text": [
      "Ground truth:  1\n",
      "Predicted label:  1\n"
     ]
    },
    {
     "data": {
      "image/png": "[encoded data removed]",
      "text/plain": [
       "<Figure size 432x288 with 1 Axes>"
      ]
     },
     "metadata": {
      "needs_background": "light"
     },
     "output_type": "display_data"
    },
    {
     "name": "stdout",
     "output_type": "stream",
     "text": [
      "Ground truth:  1\n",
      "Predicted label:  1\n"
     ]
    },
    {
     "data": {
      "image/png": "[encoded data removed]",
      "text/plain": [
       "<Figure size 432x288 with 1 Axes>"
      ]
     },
     "metadata": {
      "needs_background": "light"
     },
     "output_type": "display_data"
    },
    {
     "name": "stdout",
     "output_type": "stream",
     "text": [
      "Ground truth:  1\n",
      "Predicted label:  1\n"
     ]
    },
    {
     "data": {
      "image/png": "[encoded data removed]",
      "text/plain": [
       "<Figure size 432x288 with 1 Axes>"
      ]
     },
     "metadata": {
      "needs_background": "light"
     },
     "output_type": "display_data"
    },
    {
     "name": "stdout",
     "output_type": "stream",
     "text": [
      "Ground truth:  1\n",
      "Predicted label:  1\n"
     ]
    },
    {
     "data": {
      "image/png": "[encoded data removed]",
      "text/plain": [
       "<Figure size 432x288 with 1 Axes>"
      ]
     },
     "metadata": {
      "needs_background": "light"
     },
     "output_type": "display_data"
    },
    {
     "name": "stdout",
     "output_type": "stream",
     "text": [
      "Ground truth:  1\n",
      "Predicted label:  1\n"
     ]
    },
    {
     "data": {
      "image/png": "[encoded data removed]",
      "text/plain": [
       "<Figure size 432x288 with 1 Axes>"
      ]
     },
     "metadata": {
      "needs_background": "light"
     },
     "output_type": "display_data"
    },
    {
     "name": "stdout",
     "output_type": "stream",
     "text": [
      "Ground truth:  1\n",
      "Predicted label:  1\n"
     ]
    },
    {
     "data": {
      "image/png": "[encoded data removed]",
      "text/plain": [
       "<Figure size 432x288 with 1 Axes>"
      ]
     },
     "metadata": {
      "needs_background": "light"
     },
     "output_type": "display_data"
    },
    {
     "name": "stdout",
     "output_type": "stream",
     "text": [
      "Ground truth:  0\n",
      "Predicted label:  0\n"
     ]
    },
    {
     "data": {
      "image/png": "[encoded data removed]",
      "text/plain": [
       "<Figure size 432x288 with 1 Axes>"
      ]
     },
     "metadata": {
      "needs_background": "light"
     },
     "output_type": "display_data"
    },
    {
     "name": "stdout",
     "output_type": "stream",
     "text": [
      "Ground truth:  1\n",
      "Predicted label:  1\n"
     ]
    },
    {
     "data": {
      "image/png": "[encoded data removed]",
      "text/plain": [
       "<Figure size 432x288 with 1 Axes>"
      ]
     },
     "metadata": {
      "needs_background": "light"
     },
     "output_type": "display_data"
    },
    {
     "name": "stdout",
     "output_type": "stream",
     "text": [
      "Ground truth:  0\n",
      "Predicted label:  0\n"
     ]
    },
    {
     "data": {
      "image/png": "[encoded data removed]",
      "text/plain": [
       "<Figure size 432x288 with 1 Axes>"
      ]
     },
     "metadata": {
      "needs_background": "light"
     },
     "output_type": "display_data"
    },
    {
     "name": "stdout",
     "output_type": "stream",
     "text": [
      "Ground truth:  0\n",
      "Predicted label:  0\n",
      "Accuracy on test set:  1.0\n"
     ]
    }
   ],
   "source": [
    "accuracy_count = 0\n",
    "idx_count = 0\n",
    "\n",
    "for data in testloader:\n",
    "    # setup \n",
    "    inputs = data[0]\n",
    "    labels = data[1]\n",
    "    label = labels.item()\n",
    "    logits = net(inputs)\n",
    "    normalized_logits = F.softmax(logits)\n",
    "    preds = torch.argmax(normalized_logits)\n",
    "    pred = preds.item()\n",
    "    \n",
    "    # calculate \n",
    "    if (label == pred):\n",
    "        accuracy_count += 1\n",
    "    idx_count += 1\n",
    "    \n",
    "    # display \n",
    "    plot_tensor(inputs, False)\n",
    "    print(\"Ground truth: \", label)\n",
    "    print(\"Predicted label: \", pred)\n",
    "    \n",
    "total_accuracy = accuracy_count/idx_count\n",
    "print(\"Accuracy on test set: \", total_accuracy)"
   ]
  }
 ],
 "metadata": {
  "kernelspec": {
   "display_name": "Python 3 (ipykernel)",
   "language": "python",
   "name": "python3"
  },
  "language_info": {
   "codemirror_mode": {
    "name": "ipython",
    "version": 3
   },
   "file_extension": ".py",
   "mimetype": "text/x-python",
   "name": "python",
   "nbconvert_exporter": "python",
   "pygments_lexer": "ipython3",
   "version": "3.9.13"
  }
 },
 "nbformat": 4,
 "nbformat_minor": 5
}
